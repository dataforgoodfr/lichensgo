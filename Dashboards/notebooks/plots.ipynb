{
 "cells": [
  {
   "cell_type": "code",
   "execution_count": null,
   "id": "2e609dcd-6ac4-480c-b789-0ef81c72803d",
   "metadata": {},
   "outputs": [],
   "source": [
    "import pandas as pd\n",
    "import sys\n",
    "from pathlib import Path\n",
    "import plotly.express as px\n",
    "import os\n",
    "\n",
    "# Ajoute le dossier parent à sys.path\n",
    "chemin_dossier_parent = Path(os.getcwd()).parent\n",
    "sys.path.append(str(chemin_dossier_parent))\n",
    "from my_data.db_connect import get_session\n",
    "from my_data.datasets import get_environment_data, get_lichen_data, get_lichen_species_data, get_tree_data, get_observation_data, get_table_data"
   ]
  },
  {
   "cell_type": "code",
   "execution_count": null,
   "id": "ae8dba56-935e-43ca-9b21-8326b1ee2fa7",
   "metadata": {},
   "outputs": [],
   "source": [
    "session = get_session()\n",
    "\n",
    "# Récupération des datasets\n",
    "environment_df = get_environment_data()\n",
    "lichen_df = get_lichen_data()\n",
    "lichen_species_df = get_lichen_species_data()\n",
    "observation_df = get_observation_data()\n",
    "table_df = get_table_data()\n",
    "tree_df = get_tree_data()"
   ]
  },
  {
   "cell_type": "code",
   "execution_count": null,
   "id": "508a6dc4-12b6-46d4-a8ab-c5efa234e119",
   "metadata": {},
   "outputs": [],
   "source": [
    "# Rename columns ids for easyer merge\n",
    "lichen_df.rename(columns={'id':'lichen_id'}, inplace=True)\n",
    "lichen_species_df.rename(columns={'id':'species_id'}, inplace=True)\n",
    "observation_df.rename(columns={'id':'observation_id'}, inplace=True)\n",
    "tree_df.rename(columns={'id':'tree_id'}, inplace=True)"
   ]
  },
  {
   "cell_type": "code",
   "execution_count": null,
   "id": "333ff5ea-f32b-4bba-b328-e66568c296d9",
   "metadata": {},
   "outputs": [],
   "source": [
    "# Color palette (other options here: https://plotly.com/python/discrete-color/)\n",
    "base_color_palette = px.colors.qualitative.Set2\n",
    "pastel_color_palette = px.colors.qualitative.Pastel2"
   ]
  },
  {
   "cell_type": "code",
   "execution_count": null,
   "id": "b0124574-542a-45f4-b321-e4677e7c2c90",
   "metadata": {},
   "outputs": [],
   "source": [
    "square_columns = ['sq1', 'sq2', 'sq3', 'sq4', 'sq5']\n",
    "orientations = ['N', 'E', 'S', 'O']\n",
    "\n",
    "# Create a mapping dictionary for legend items (orientations)\n",
    "orientations_mapping = {\n",
    "    \"N\": \"Nord\",\n",
    "    \"E\": \"Est\",\n",
    "    \"S\": \"Sud\",\n",
    "    \"O\": \"Ouest\"\n",
    "}"
   ]
  },
  {
   "cell_type": "markdown",
   "id": "4f7ac788-9e06-4746-9edd-49e0e40992f7",
   "metadata": {},
   "source": [
    "## Histogram 3"
   ]
  },
  {
   "cell_type": "code",
   "execution_count": null,
   "id": "eb16eb03-b399-4896-b2c0-2f0979873fd4",
   "metadata": {},
   "outputs": [],
   "source": [
    "# Calculate the number of lichens per orientation for each lichen in the table\n",
    "for orientation in orientations:\n",
    "    table_df[orientation] = table_df[square_columns].apply(\n",
    "        lambda row: sum(orientation in sq for sq in row), axis=1\n",
    "    )\n",
    "\n",
    "# Sum of N + E + S + O for each lichen\n",
    "table_df['sum_quadrat'] = table_df[orientations].sum(axis=1) \n",
    "\n",
    "table_df"
   ]
  },
  {
   "cell_type": "code",
   "execution_count": null,
   "id": "c2b76a98-1f16-4820-a852-742d3001f1bd",
   "metadata": {
    "scrolled": true
   },
   "outputs": [],
   "source": [
    "# Merge tables\n",
    "merged_table = table_df.merge(right=lichen_df, how='left').merge(right=lichen_species_df, how='left')\n",
    "merged_table"
   ]
  },
  {
   "cell_type": "code",
   "execution_count": null,
   "id": "909de8c0-d0f8-4d4c-8741-bed12c9ecec1",
   "metadata": {},
   "outputs": [],
   "source": [
    "obs_id = 501\n",
    "\n",
    "site_table = merged_table.query(\"observation_id == @obs_id\")\n",
    "site_table"
   ]
  },
  {
   "cell_type": "code",
   "execution_count": null,
   "id": "227122d3-7cbf-4f3c-b8d1-9a070c5efd8b",
   "metadata": {},
   "outputs": [],
   "source": [
    "site_table_per_lichen = site_table.groupby(by='lichen_id', as_index=False).agg(\n",
    "    {\n",
    "        'name': 'first',\n",
    "         'N': 'sum',\n",
    "         'O': 'sum',\n",
    "         'S': 'sum',\n",
    "         'E': 'sum',\n",
    "        'sum_quadrat': 'sum'\n",
    "    }).sort_values(by='sum_quadrat', ascending=True, ignore_index=True)\n",
    "\n",
    "site_table_per_lichen"
   ]
  },
  {
   "cell_type": "code",
   "execution_count": null,
   "id": "57d7adc6-8481-4f9c-a211-d0790d819b5e",
   "metadata": {},
   "outputs": [],
   "source": [
    "# Create the bar plot\n",
    "hist3 = px.bar(\n",
    "    site_table_per_lichen,\n",
    "    x=orientations,\n",
    "    y=\"name\",\n",
    "    orientation=\"h\",\n",
    "    color_discrete_sequence=base_color_palette\n",
    ")\n",
    "\n",
    "# Update layout\n",
    "hist3.update_layout(\n",
    "    title_text=\"Espèces observées sur le site sélectionné\",\n",
    "    title={\"x\": 0.5, \"y\": 0.95, \"xanchor\": \"center\"},\n",
    "    margin=dict(l=20, r=20, t=40, b=20), \n",
    "    legend_title_text=\"Orientation\",\n",
    "    template=\"plotly_white\",\n",
    "    barcornerradius=\"30%\"\n",
    ")\n",
    "\n",
    "# Update axes\n",
    "hist3.update_xaxes(\n",
    "    title_text=\"Nombre\",\n",
    "    showgrid=True,\n",
    "    gridcolor='rgba(200, 200, 200, 0.5)',\n",
    "    tickfont=dict(size=14)\n",
    ")\n",
    "hist3.update_yaxes(\n",
    "    title_text=\"\",\n",
    "    tickfont=dict(size=14)  # Adjust tick font size\n",
    ")\n",
    "\n",
    "# Customize hover information\n",
    "hist3.update_traces(hovertemplate=\"\"\"\n",
    "    <b>Espèce:</b> %{y}<br>\n",
    "    <b>Nombre:</b> %{x}<extra></extra>\n",
    "\"\"\")\n",
    "\n",
    "# Update the legend labels based on the mapping\n",
    "hist3.for_each_trace(lambda t: t.update(name=orientations_mapping.get(t.name, t.name)))\n",
    "\n",
    "# Show the plot\n",
    "hist3.show()"
   ]
  },
  {
   "cell_type": "code",
   "execution_count": null,
   "id": "a1f07a82-caaf-49e2-90b7-298afa427222",
   "metadata": {},
   "outputs": [],
   "source": [
    "fig = px.colors.qualitative.swatches()\n",
    "fig.show()"
   ]
  },
  {
   "cell_type": "markdown",
   "id": "b4b53bbb-3e69-4707-bae4-272ddd916475",
   "metadata": {},
   "source": [
    "## Histogram 4"
   ]
  },
  {
   "cell_type": "code",
   "execution_count": null,
   "id": "8c4f2dbc-9cfc-4d2a-8a05-d89531a2ee62",
   "metadata": {},
   "outputs": [],
   "source": [
    "# Group by species' type and count them\n",
    "df_grouped = (\n",
    "    lichen_df\n",
    "    .groupby(\"species_id\", as_index=False)\n",
    "    .size()\n",
    "    .rename(columns={'size': 'count'})\n",
    ")\n",
    "\n",
    "# Merge with species names\n",
    "df_grouped_species = df_grouped.merge(lichen_species_df[['species_id', 'name']], on='species_id', how='left')\n",
    "\n",
    "# Sort based on occurrences in descending order\n",
    "df_grouped_species = df_grouped_species.sort_values(by='count', ascending=False).reset_index(drop=True)\n",
    "df_grouped_species"
   ]
  },
  {
   "cell_type": "code",
   "execution_count": null,
   "id": "688cba74-447b-49d9-b1fd-47b6c2dfa1b9",
   "metadata": {},
   "outputs": [],
   "source": [
    "# TODO: the user's selection should be interactive -> to modify in the final Dash\n",
    "\n",
    "user_selection_species_id = 30\n",
    "user_selection_species_name = lichen_species_df[lichen_species_df[\"species_id\"] == user_selection_species_id][\"name\"]\n",
    "print(\"Species selected by the user:\", user_selection_species_name)\n",
    "\n",
    "# Index in \"df_grouped_species\" corresponding to the selected species\n",
    "idx = df_grouped_species[df_grouped_species[\"species_id\"] == user_selection_species_id].index\n",
    "\n",
    "# Adjust the color of the selected specie\n",
    "pastel_color = pastel_color_palette[0]\n",
    "selected_color = base_color_palette[0]\n",
    "\n",
    "color_hist4 = [pastel_color] * len(df_grouped_species)\n",
    "color_hist4[int(idx[0])] = selected_color\n",
    "\n",
    "# Bar plot\n",
    "hist4 = px.bar(\n",
    "    df_grouped_species, \n",
    "    x=\"count\", \n",
    "    y=\"name\",\n",
    "    orientation=\"h\",\n",
    "    color=\"name\",\n",
    "    color_discrete_sequence=color_hist4,\n",
    "    title=\"Espèces les plus observées par les observateurs Lichens GO\",\n",
    ")\n",
    "\n",
    "# Update layout\n",
    "hist4.update_layout(\n",
    "    title={\"x\": 0.5, \"y\": 0.95, \"xanchor\": \"center\"},\n",
    "    margin=dict(l=20, r=20, t=40, b=20), \n",
    "    template=\"plotly_white\",\n",
    "    barcornerradius=\"30%\"\n",
    ")\n",
    "\n",
    "# Remove the legend\n",
    "hist4.update(layout_showlegend=False)\n",
    "\n",
    "# Update axes\n",
    "hist4.update_xaxes(\n",
    "    title_text=\"Nombre\",\n",
    "    showgrid=True,\n",
    "    gridcolor='rgba(200, 200, 200, 0.5)',\n",
    ")\n",
    "hist4.update_yaxes(\n",
    "    title=\"\",\n",
    "    tickfont=dict(size=10)  # Adjust tick font size\n",
    ")\n",
    "\n",
    "# Customize hover information\n",
    "hist4.update_traces(hovertemplate=\"\"\"\n",
    "    <b>Espèce:</b> %{y}<br>\n",
    "    <b>Nombre:</b> %{x}<extra></extra>\n",
    "\"\"\")\n",
    "\n",
    "hist4.show()"
   ]
  },
  {
   "cell_type": "code",
   "execution_count": null,
   "id": "82360b95-080f-4650-b573-2825be73e28b",
   "metadata": {},
   "outputs": [],
   "source": []
  }
 ],
 "metadata": {
  "kernelspec": {
   "display_name": "Python 3 (ipykernel)",
   "language": "python",
   "name": "python3"
  },
  "language_info": {
   "codemirror_mode": {
    "name": "ipython",
    "version": 3
   },
   "file_extension": ".py",
   "mimetype": "text/x-python",
   "name": "python",
   "nbconvert_exporter": "python",
   "pygments_lexer": "ipython3",
   "version": "3.10.6"
  }
 },
 "nbformat": 4,
 "nbformat_minor": 5
}
